{
 "cells": [
  {
   "cell_type": "code",
   "execution_count": 1,
   "metadata": {},
   "outputs": [],
   "source": [
    "import numpy as np\n",
    "# affine変換\n",
    "def affine(z, W, b):\n",
    "    return np.dot(z, W) + b\n",
    "# affine変換勾配\n",
    "def affine_back(du, z, W, b):\n",
    "    dz = np.dot(du, W.T)\n",
    "    dW = np.dot(z.T, du)\n",
    "    db = np.dot(np.ones(z.shape[0]).T, du)\n",
    "    return dz, dW, db\n",
    "# 活性化関数(ReLU)\n",
    "def relu(u):\n",
    "    return np.maximum(0, u)\n",
    "# 活性化関数(ReLU)勾配\n",
    "def relu_back(dz, u):\n",
    "    return dz * np.where(u > 0, 1, 0)\n",
    "# 活性化関数(softmax)\n",
    "def softmax(u):\n",
    "    max_u = np.max(u, axis=1, keepdims=True)\n",
    "    exp_u = np.exp(u-max_u)\n",
    "    return exp_u/np.sum(exp_u, axis=1, keepdims=True)\n",
    "# 誤差(交差エントロピー）\n",
    "def cross_entropy_error(y, t):\n",
    "    return -np.sum(t * np.log(np.maximum(y,1e-7)))/y.shape[0]\n",
    "# 誤差(交差エントロピー）＋活性化関数(softmax)勾配\n",
    "def softmax_cross_entropy_error_back(y, t):\n",
    "    return (y - t)/y.shape[0]"
   ]
  },
  {
   "cell_type": "code",
   "execution_count": 2,
   "metadata": {},
   "outputs": [],
   "source": [
    "def learn(x, t, W1, b1, W2, b2, W3, b3, lr):\n",
    "    # 順伝播\n",
    "    u1 = affine(x, W1, b1)\n",
    "    z1 = relu(u1)\n",
    "    u2 = affine(z1, W2, b2)\n",
    "    z2 = relu(u2)\n",
    "    u3 = affine(z2, W3, b3)\n",
    "    y  = softmax(u3)\n",
    "    # 逆伝播\n",
    "    dy = softmax_cross_entropy_error_back(y, t)\n",
    "    dz2, dW3, db3 = affine_back(dy, z2, W3, b3)\n",
    "    du2 = relu_back(dz2, u2)\n",
    "    dz1, dW2, db2 = affine_back(du2, z1, W2, b2)\n",
    "    du1 = relu_back(dz1, u1)\n",
    "    dx, dW1, db1 = affine_back(du1, x, W1, b1)\n",
    "    # 重み、バイアスの更新\n",
    "    W1 = W1 - lr * dW1\n",
    "    b1 = b1 - lr * db1\n",
    "    W2 = W2 - lr * dW2\n",
    "    b2 = b2 - lr * db2\n",
    "    W3 = W3 - lr * dW3\n",
    "    b3 = b3 - lr * db3\n",
    "\n",
    "    return W1, b1, W2, b2, W3, b3"
   ]
  },
  {
   "cell_type": "code",
   "execution_count": 3,
   "metadata": {},
   "outputs": [],
   "source": [
    "def predict(x, W1, b1, W2, b2, W3, b3):\n",
    "    # 順伝播\n",
    "    u1 = affine(x, W1, b1)\n",
    "    z1 = relu(u1)\n",
    "    u2 = affine(z1, W2, b2)\n",
    "    z2 = relu(u2)\n",
    "    u3 = affine(z2, W3, b3)\n",
    "    y  = softmax(u3)\n",
    "    return y"
   ]
  },
  {
   "cell_type": "code",
   "execution_count": 4,
   "metadata": {},
   "outputs": [
    {
     "name": "stdout",
     "output_type": "stream",
     "text": [
      "  0 train_rate= 11.67% test_rate= 12.18% train_err= 2.30623 test_err= 2.30601\n",
      "  1 train_rate= 92.39% test_rate= 92.38% train_err= 0.24541 test_err= 0.24307\n",
      "  2 train_rate= 96.78% test_rate= 96.34% train_err= 0.10314 test_err= 0.11774\n",
      "  3 train_rate= 97.67% test_rate= 97.02% train_err= 0.07395 test_err= 0.10026\n",
      "  4 train_rate= 98.03% test_rate= 97.06% train_err= 0.06057 test_err= 0.09716\n",
      "  5 train_rate= 98.34% test_rate= 97.18% train_err= 0.05275 test_err= 0.09951\n",
      "  6 train_rate= 98.65% test_rate= 97.30% train_err= 0.04209 test_err= 0.09596\n",
      "  7 train_rate= 98.51% test_rate= 96.95% train_err= 0.04488 test_err= 0.10893\n",
      "  8 train_rate= 98.79% test_rate= 97.39% train_err= 0.03560 test_err= 0.09737\n",
      "  9 train_rate= 99.01% test_rate= 97.47% train_err= 0.03033 test_err= 0.09725\n",
      " 10 train_rate= 99.12% test_rate= 97.57% train_err= 0.02574 test_err= 0.09797\n",
      " 11 train_rate= 99.16% test_rate= 97.47% train_err= 0.02525 test_err= 0.10192\n",
      " 12 train_rate= 99.38% test_rate= 97.67% train_err= 0.01840 test_err= 0.09298\n",
      " 13 train_rate= 99.38% test_rate= 97.74% train_err= 0.01823 test_err= 0.10565\n",
      " 14 train_rate= 99.39% test_rate= 97.64% train_err= 0.01810 test_err= 0.10720\n",
      " 15 train_rate= 99.57% test_rate= 97.73% train_err= 0.01372 test_err= 0.10326\n",
      " 16 train_rate= 99.44% test_rate= 97.58% train_err= 0.01655 test_err= 0.11163\n",
      " 17 train_rate= 99.64% test_rate= 97.93% train_err= 0.01091 test_err= 0.10076\n",
      " 18 train_rate= 99.76% test_rate= 97.95% train_err= 0.00732 test_err= 0.10471\n",
      " 19 train_rate= 99.23% test_rate= 97.36% train_err= 0.02097 test_err= 0.11870\n",
      " 20 train_rate= 99.45% test_rate= 97.73% train_err= 0.01611 test_err= 0.11596\n",
      " 21 train_rate= 99.72% test_rate= 97.90% train_err= 0.00790 test_err= 0.10885\n",
      " 22 train_rate= 99.53% test_rate= 97.60% train_err= 0.01300 test_err= 0.12406\n",
      " 23 train_rate= 99.83% test_rate= 97.94% train_err= 0.00488 test_err= 0.10951\n",
      " 24 train_rate= 99.96% test_rate= 98.05% train_err= 0.00175 test_err= 0.10824\n",
      " 25 train_rate= 99.92% test_rate= 98.08% train_err= 0.00245 test_err= 0.10753\n",
      " 26 train_rate= 99.93% test_rate= 98.07% train_err= 0.00240 test_err= 0.11005\n",
      " 27 train_rate= 99.98% test_rate= 98.13% train_err= 0.00088 test_err= 0.11008\n",
      " 28 train_rate= 99.94% test_rate= 98.01% train_err= 0.00198 test_err= 0.11571\n",
      " 29 train_rate= 99.92% test_rate= 97.95% train_err= 0.00251 test_err= 0.11315\n",
      " 30 train_rate= 99.97% test_rate= 97.96% train_err= 0.00142 test_err= 0.11157\n",
      " 31 train_rate=100.00% test_rate= 98.22% train_err= 0.00026 test_err= 0.10814\n",
      " 32 train_rate=100.00% test_rate= 98.21% train_err= 0.00017 test_err= 0.10882\n",
      " 33 train_rate=100.00% test_rate= 98.21% train_err= 0.00014 test_err= 0.10952\n",
      " 34 train_rate=100.00% test_rate= 98.22% train_err= 0.00012 test_err= 0.11002\n",
      " 35 train_rate=100.00% test_rate= 98.21% train_err= 0.00011 test_err= 0.11052\n",
      " 36 train_rate=100.00% test_rate= 98.22% train_err= 0.00010 test_err= 0.11095\n",
      " 37 train_rate=100.00% test_rate= 98.23% train_err= 0.00009 test_err= 0.11133\n",
      " 38 train_rate=100.00% test_rate= 98.24% train_err= 0.00009 test_err= 0.11167\n",
      " 39 train_rate=100.00% test_rate= 98.23% train_err= 0.00008 test_err= 0.11197\n",
      " 40 train_rate=100.00% test_rate= 98.24% train_err= 0.00008 test_err= 0.11224\n",
      " 41 train_rate=100.00% test_rate= 98.23% train_err= 0.00007 test_err= 0.11249\n",
      " 42 train_rate=100.00% test_rate= 98.25% train_err= 0.00007 test_err= 0.11264\n",
      " 43 train_rate=100.00% test_rate= 98.26% train_err= 0.00007 test_err= 0.11289\n",
      " 44 train_rate=100.00% test_rate= 98.26% train_err= 0.00006 test_err= 0.11308\n",
      " 45 train_rate=100.00% test_rate= 98.26% train_err= 0.00006 test_err= 0.11325\n",
      " 46 train_rate=100.00% test_rate= 98.25% train_err= 0.00006 test_err= 0.11343\n",
      " 47 train_rate=100.00% test_rate= 98.25% train_err= 0.00006 test_err= 0.11363\n",
      " 48 train_rate=100.00% test_rate= 98.25% train_err= 0.00006 test_err= 0.11378\n",
      " 49 train_rate=100.00% test_rate= 98.25% train_err= 0.00005 test_err= 0.11390\n",
      " 50 train_rate=100.00% test_rate= 98.25% train_err= 0.00005 test_err= 0.11411\n"
     ]
    }
   ],
   "source": [
    "import gzip\n",
    "import numpy as np\n",
    "# MNIST読み込み\n",
    "def load_mnist( mnist_path ) :\n",
    "    return _load_image(mnist_path + 'train-images-idx3-ubyte.gz'), \\\n",
    "           _load_label(mnist_path + 'train-labels-idx1-ubyte.gz'), \\\n",
    "           _load_image(mnist_path + 't10k-images-idx3-ubyte.gz'), \\\n",
    "           _load_label(mnist_path + 't10k-labels-idx1-ubyte.gz')\n",
    "def _load_image( image_path ) :\n",
    "    # 画像データの読み込み\n",
    "    with gzip.open(image_path, 'rb') as f:\n",
    "        buffer = f.read()\n",
    "    size = np.frombuffer(buffer, np.dtype('>i4'), 1, offset=4)\n",
    "    rows = np.frombuffer(buffer, np.dtype('>i4'), 1, offset=8)\n",
    "    columns = np.frombuffer(buffer, np.dtype('>i4'), 1, offset=12)\n",
    "    data = np.frombuffer(buffer, np.uint8, offset=16)\n",
    "    image = np.reshape(data, (size[0], rows[0]*columns[0]))\n",
    "    image = image.astype(np.float32)\n",
    "    return image\n",
    "def _load_label( label_path ) :\n",
    "    # 正解データ読み込み\n",
    "    with gzip.open(label_path, 'rb') as f:\n",
    "        buffer = f.read()\n",
    "    size = np.frombuffer(buffer, np.dtype('>i4'), 1, offset=4)\n",
    "    data = np.frombuffer(buffer, np.uint8, offset=8)\n",
    "    label = np.zeros((size[0], 10))\n",
    "    for i in range(size[0]):\n",
    "        label[i, data[i]] = 1\n",
    "    return label\n",
    "\n",
    "# 正解率\n",
    "def accuracy_rate(y, t):\n",
    "    max_y = np.argmax(y, axis=1)\n",
    "    max_t = np.argmax(t, axis=1)\n",
    "    return np.sum(max_y == max_t)/y.shape[0]\n",
    "\n",
    "# MNISTデータ読み込み\n",
    "x_train, t_train, x_test, t_test = load_mnist('c:\\\\mnist\\\\')\n",
    "\n",
    "# 入力データの正規化(0～1)\n",
    "nx_train = x_train/255\n",
    "nx_test  = x_test/255\n",
    "\n",
    "# ノード数設定\n",
    "d0 = nx_train.shape[1]\n",
    "d1 = 100 # 1層目のノード数\n",
    "d2 = 50  # 2層目のノード数\n",
    "d3 = 10\n",
    "# 重みの初期化(-0.1～0.1の乱数)\n",
    "np.random.seed(8)\n",
    "W1 = np.random.rand(d0, d1) * 0.2 - 0.1\n",
    "W2 = np.random.rand(d1, d2) * 0.2 - 0.1\n",
    "W3 = np.random.rand(d2, d3) * 0.2 - 0.1\n",
    "# バイアスの初期化(0)\n",
    "b1 = np.zeros(d1)\n",
    "b2 = np.zeros(d2)\n",
    "b3 = np.zeros(d3)\n",
    "\n",
    "# 学習率\n",
    "lr = 0.5\n",
    "# バッチサイズ\n",
    "batch_size = 100\n",
    "# 学習回数\n",
    "epoch = 50\n",
    "\n",
    "# 予測（学習データ）\n",
    "y_train = predict(nx_train, W1, b1, W2, b2, W3, b3)\n",
    "# 予測（テストデータ）\n",
    "y_test = predict(nx_test, W1, b1, W2, b2, W3, b3)\n",
    "# 正解率、誤差表示\n",
    "train_rate, train_err = accuracy_rate(y_train, t_train), cross_entropy_error(y_train, t_train)\n",
    "test_rate, test_err = accuracy_rate(y_test, t_test), cross_entropy_error(y_test, t_test)\n",
    "print(\"{0:3d} train_rate={1:6.2f}% test_rate={2:6.2f}% train_err={3:8.5f} test_err={4:8.5f}\".format((0), train_rate*100, test_rate*100, train_err, test_err))\n",
    "\n",
    "for i in range(epoch):\n",
    "    # 学習\n",
    "    for j in range(0, nx_train.shape[0], batch_size):\n",
    "        W1, b1, W2, b2, W3, b3 = learn(nx_train[j:j+batch_size], t_train[j:j+batch_size], W1, b1, W2, b2, W3, b3, lr)\n",
    "\n",
    "    # 予測（学習データ）\n",
    "    y_train = predict(nx_train, W1, b1, W2, b2, W3, b3)\n",
    "    # 予測（テストデータ）\n",
    "    y_test = predict(nx_test, W1, b1, W2, b2, W3, b3)\n",
    "    # 正解率、誤差表示\n",
    "    train_rate, train_err = accuracy_rate(y_train, t_train), cross_entropy_error(y_train, t_train)\n",
    "    test_rate, test_err = accuracy_rate(y_test, t_test), cross_entropy_error(y_test, t_test)\n",
    "    print(\"{0:3d} train_rate={1:6.2f}% test_rate={2:6.2f}% train_err={3:8.5f} test_err={4:8.5f}\".format((i+1), train_rate*100, test_rate*100, train_err, test_err))"
   ]
  },
  {
   "cell_type": "code",
   "execution_count": 5,
   "metadata": {},
   "outputs": [
    {
     "name": "stdout",
     "output_type": "stream",
     "text": [
      "  0 正解=7 予測=7 予測確率=100.00%\n"
     ]
    },
    {
     "data": {
      "image/png": "[encoded data removed]",
      "text/plain": [
       "<Figure size 432x288 with 1 Axes>"
      ]
     },
     "metadata": {
      "needs_background": "light"
     },
     "output_type": "display_data"
    },
    {
     "name": "stdout",
     "output_type": "stream",
     "text": [
      "  1 正解=2 予測=2 予測確率=100.00%\n"
     ]
    },
    {
     "data": {
      "image/png": "[encoded data removed]",
      "text/plain": [
       "<Figure size 432x288 with 1 Axes>"
      ]
     },
     "metadata": {
      "needs_background": "light"
     },
     "output_type": "display_data"
    },
    {
     "name": "stdout",
     "output_type": "stream",
     "text": [
      "  2 正解=1 予測=1 予測確率=100.00%\n"
     ]
    },
    {
     "data": {
      "image/png": "[encoded data removed]",
      "text/plain": [
       "<Figure size 432x288 with 1 Axes>"
      ]
     },
     "metadata": {
      "needs_background": "light"
     },
     "output_type": "display_data"
    },
    {
     "name": "stdout",
     "output_type": "stream",
     "text": [
      "  3 正解=0 予測=0 予測確率=100.00%\n"
     ]
    },
    {
     "data": {
      "image/png": "[encoded data removed]",
      "text/plain": [
       "<Figure size 432x288 with 1 Axes>"
      ]
     },
     "metadata": {
      "needs_background": "light"
     },
     "output_type": "display_data"
    },
    {
     "name": "stdout",
     "output_type": "stream",
     "text": [
      "  4 正解=4 予測=4 予測確率=100.00%\n"
     ]
    },
    {
     "data": {
      "image/png": "[encoded data removed]",
      "text/plain": [
       "<Figure size 432x288 with 1 Axes>"
      ]
     },
     "metadata": {
      "needs_background": "light"
     },
     "output_type": "display_data"
    },
    {
     "name": "stdout",
     "output_type": "stream",
     "text": [
      "  5 正解=1 予測=1 予測確率=100.00%\n"
     ]
    },
    {
     "data": {
      "image/png": "[encoded data removed]",
      "text/plain": [
       "<Figure size 432x288 with 1 Axes>"
      ]
     },
     "metadata": {
      "needs_background": "light"
     },
     "output_type": "display_data"
    },
    {
     "name": "stdout",
     "output_type": "stream",
     "text": [
      "  6 正解=4 予測=4 予測確率=100.00%\n"
     ]
    },
    {
     "data": {
      "image/png": "[encoded data removed]",
      "text/plain": [
       "<Figure size 432x288 with 1 Axes>"
      ]
     },
     "metadata": {
      "needs_background": "light"
     },
     "output_type": "display_data"
    },
    {
     "name": "stdout",
     "output_type": "stream",
     "text": [
      "  7 正解=9 予測=9 予測確率=100.00%\n"
     ]
    },
    {
     "data": {
      "image/png": "[encoded data removed]",
      "text/plain": [
       "<Figure size 432x288 with 1 Axes>"
      ]
     },
     "metadata": {
      "needs_background": "light"
     },
     "output_type": "display_data"
    },
    {
     "name": "stdout",
     "output_type": "stream",
     "text": [
      "  8 正解=5 予測=5 予測確率=100.00%\n"
     ]
    },
    {
     "data": {
      "image/png": "[encoded data removed]",
      "text/plain": [
       "<Figure size 432x288 with 1 Axes>"
      ]
     },
     "metadata": {
      "needs_background": "light"
     },
     "output_type": "display_data"
    },
    {
     "name": "stdout",
     "output_type": "stream",
     "text": [
      "  9 正解=9 予測=9 予測確率=100.00%\n"
     ]
    },
    {
     "data": {
      "image/png": "[encoded data removed]",
      "text/plain": [
       "<Figure size 432x288 with 1 Axes>"
      ]
     },
     "metadata": {
      "needs_background": "light"
     },
     "output_type": "display_data"
    }
   ],
   "source": [
    "# 本当に正解しているかどうかの確認方法です。以下は、テストデータの10件目までの正解、予測値、予測した確率を表示します。\n",
    "import matplotlib.pyplot as plt\n",
    "data = np.reshape(x_test, (10000,28,28))\n",
    "for i in range(10):\n",
    "        print(\"{0:3d} 正解={1} 予測={2} 予測確率={3:6.2f}%\".format(i, np.argmax(t_test[i]), np.argmax(y_test[i]), np.max(y_test[i])*100))\n",
    "        plt.imshow(data[i], 'gray')\n",
    "        plt.axis('off')\n",
    "        plt.show()"
   ]
  },
  {
   "cell_type": "code",
   "execution_count": 6,
   "metadata": {},
   "outputs": [
    {
     "name": "stdout",
     "output_type": "stream",
     "text": [
      "104 正解=9 予測=5 予測確率= 93.15%\n"
     ]
    },
    {
     "data": {
      "image/png": "[encoded data removed]",
      "text/plain": [
       "<Figure size 432x288 with 1 Axes>"
      ]
     },
     "metadata": {
      "needs_background": "light"
     },
     "output_type": "display_data"
    },
    {
     "name": "stdout",
     "output_type": "stream",
     "text": [
      "115 正解=4 予測=9 予測確率= 96.87%\n"
     ]
    },
    {
     "data": {
      "image/png": "[encoded data removed]",
      "text/plain": [
       "<Figure size 432x288 with 1 Axes>"
      ]
     },
     "metadata": {
      "needs_background": "light"
     },
     "output_type": "display_data"
    },
    {
     "name": "stdout",
     "output_type": "stream",
     "text": [
      "151 正解=9 予測=8 予測確率= 94.78%\n"
     ]
    },
    {
     "data": {
      "image/png": "[encoded data removed]",
      "text/plain": [
       "<Figure size 432x288 with 1 Axes>"
      ]
     },
     "metadata": {
      "needs_background": "light"
     },
     "output_type": "display_data"
    },
    {
     "name": "stdout",
     "output_type": "stream",
     "text": [
      "217 正解=6 予測=5 予測確率= 95.10%\n"
     ]
    },
    {
     "data": {
      "image/png": "[encoded data removed]",
      "text/plain": [
       "<Figure size 432x288 with 1 Axes>"
      ]
     },
     "metadata": {
      "needs_background": "light"
     },
     "output_type": "display_data"
    },
    {
     "name": "stdout",
     "output_type": "stream",
     "text": [
      "247 正解=4 予測=2 予測確率=100.00%\n"
     ]
    },
    {
     "data": {
      "image/png": "[encoded data removed]",
      "text/plain": [
       "<Figure size 432x288 with 1 Axes>"
      ]
     },
     "metadata": {
      "needs_background": "light"
     },
     "output_type": "display_data"
    },
    {
     "name": "stdout",
     "output_type": "stream",
     "text": [
      "340 正解=5 予測=3 予測確率=100.00%\n"
     ]
    },
    {
     "data": {
      "image/png": "[encoded data removed]",
      "text/plain": [
       "<Figure size 432x288 with 1 Axes>"
      ]
     },
     "metadata": {
      "needs_background": "light"
     },
     "output_type": "display_data"
    },
    {
     "name": "stdout",
     "output_type": "stream",
     "text": [
      "381 正解=3 予測=7 予測確率= 99.95%\n"
     ]
    },
    {
     "data": {
      "image/png": "[encoded data removed]",
      "text/plain": [
       "<Figure size 432x288 with 1 Axes>"
      ]
     },
     "metadata": {
      "needs_background": "light"
     },
     "output_type": "display_data"
    },
    {
     "name": "stdout",
     "output_type": "stream",
     "text": [
      "445 正解=6 予測=0 予測確率= 99.92%\n"
     ]
    },
    {
     "data": {
      "image/png": "[encoded data removed]",
      "text/plain": [
       "<Figure size 432x288 with 1 Axes>"
      ]
     },
     "metadata": {
      "needs_background": "light"
     },
     "output_type": "display_data"
    },
    {
     "name": "stdout",
     "output_type": "stream",
     "text": [
      "582 正解=8 予測=2 予測確率= 98.13%\n"
     ]
    },
    {
     "data": {
      "image/png": "[encoded data removed]",
      "text/plain": [
       "<Figure size 432x288 with 1 Axes>"
      ]
     },
     "metadata": {
      "needs_background": "light"
     },
     "output_type": "display_data"
    },
    {
     "name": "stdout",
     "output_type": "stream",
     "text": [
      "583 正解=2 予測=7 予測確率= 98.36%\n"
     ]
    },
    {
     "data": {
      "image/png": "[encoded data removed]",
      "text/plain": [
       "<Figure size 432x288 with 1 Axes>"
      ]
     },
     "metadata": {
      "needs_background": "light"
     },
     "output_type": "display_data"
    },
    {
     "name": "stdout",
     "output_type": "stream",
     "text": [
      "659 正解=2 予測=7 予測確率= 72.95%\n"
     ]
    },
    {
     "data": {
      "image/png": "[encoded data removed]",
      "text/plain": [
       "<Figure size 432x288 with 1 Axes>"
      ]
     },
     "metadata": {
      "needs_background": "light"
     },
     "output_type": "display_data"
    },
    {
     "name": "stdout",
     "output_type": "stream",
     "text": [
      "720 正解=5 予測=8 予測確率=100.00%\n"
     ]
    },
    {
     "data": {
      "image/png": "[encoded data removed]",
      "text/plain": [
       "<Figure size 432x288 with 1 Axes>"
      ]
     },
     "metadata": {
      "needs_background": "light"
     },
     "output_type": "display_data"
    },
    {
     "name": "stdout",
     "output_type": "stream",
     "text": [
      "883 正解=3 予測=5 予測確率= 92.00%\n"
     ]
    },
    {
     "data": {
      "image/png": "[encoded data removed]",
      "text/plain": [
       "<Figure size 432x288 with 1 Axes>"
      ]
     },
     "metadata": {
      "needs_background": "light"
     },
     "output_type": "display_data"
    },
    {
     "name": "stdout",
     "output_type": "stream",
     "text": [
      "900 正解=1 予測=3 予測確率= 96.92%\n"
     ]
    },
    {
     "data": {
      "image/png": "[encoded data removed]",
      "text/plain": [
       "<Figure size 432x288 with 1 Axes>"
      ]
     },
     "metadata": {
      "needs_background": "light"
     },
     "output_type": "display_data"
    },
    {
     "name": "stdout",
     "output_type": "stream",
     "text": [
      "947 正解=8 予測=9 予測確率= 69.23%\n"
     ]
    },
    {
     "data": {
      "image/png": "[encoded data removed]",
      "text/plain": [
       "<Figure size 432x288 with 1 Axes>"
      ]
     },
     "metadata": {
      "needs_background": "light"
     },
     "output_type": "display_data"
    },
    {
     "name": "stdout",
     "output_type": "stream",
     "text": [
      "951 正解=5 予測=4 予測確率= 99.95%\n"
     ]
    },
    {
     "data": {
      "image/png": "[encoded data removed]",
      "text/plain": [
       "<Figure size 432x288 with 1 Axes>"
      ]
     },
     "metadata": {
      "needs_background": "light"
     },
     "output_type": "display_data"
    },
    {
     "name": "stdout",
     "output_type": "stream",
     "text": [
      "956 正解=1 予測=2 予測確率= 99.99%\n"
     ]
    },
    {
     "data": {
      "image/png": "[encoded data removed]",
      "text/plain": [
       "<Figure size 432x288 with 1 Axes>"
      ]
     },
     "metadata": {
      "needs_background": "light"
     },
     "output_type": "display_data"
    }
   ],
   "source": [
    "# 不正解のデータの表示は、以下です。1000件目までの不正解のデータを表示しています。\n",
    "import matplotlib.pyplot as plt\n",
    "data = np.reshape(x_test, (10000,28,28))\n",
    "for i in range(1000):\n",
    "    if np.argmax(y_test[i]) != np.argmax(t_test[i]):\n",
    "        print(\"{0:3d} 正解={1} 予測={2} 予測確率={3:6.2f}%\".format(i, np.argmax(t_test[i]), np.argmax(y_test[i]), np.max(y_test[i])*100))\n",
    "        plt.imshow(data[i], 'gray')\n",
    "        plt.axis('off')\n",
    "        plt.show()"
   ]
  },
  {
   "cell_type": "code",
   "execution_count": null,
   "metadata": {},
   "outputs": [],
   "source": []
  },
  {
   "cell_type": "code",
   "execution_count": null,
   "metadata": {},
   "outputs": [],
   "source": []
  }
 ],
 "metadata": {
  "kernelspec": {
   "display_name": "Python 3",
   "language": "python",
   "name": "python3"
  },
  "language_info": {
   "codemirror_mode": {
    "name": "ipython",
    "version": 3
   },
   "file_extension": ".py",
   "mimetype": "text/x-python",
   "name": "python",
   "nbconvert_exporter": "python",
   "pygments_lexer": "ipython3",
   "version": "3.8.5"
  }
 },
 "nbformat": 4,
 "nbformat_minor": 4
}
