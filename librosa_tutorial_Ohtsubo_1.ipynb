{
 "cells": [
  {
   "cell_type": "code",
   "execution_count": 1,
   "id": "ae6537b0",
   "metadata": {},
   "outputs": [],
   "source": [
    "import librosa"
   ]
  },
  {
   "cell_type": "code",
   "execution_count": 4,
   "id": "2db27d31",
   "metadata": {},
   "outputs": [],
   "source": [
    "#サンプル音楽ファイルをロードする\n",
    "file_name = librosa.example('nutcracker')"
   ]
  },
  {
   "cell_type": "code",
   "execution_count": 6,
   "id": "8e0b3a75",
   "metadata": {},
   "outputs": [
    {
     "data": {
      "text/plain": [
       "'C:\\\\Users\\\\200271\\\\AppData\\\\Local\\\\librosa\\\\librosa\\\\Cache\\\\Kevin_MacLeod_-_P_I_Tchaikovsky_Dance_of_the_Sugar_Plum_Fairy.ogg'"
      ]
     },
     "execution_count": 6,
     "metadata": {},
     "output_type": "execute_result"
    }
   ],
   "source": [
    "file_name"
   ]
  },
  {
   "cell_type": "code",
   "execution_count": 5,
   "id": "6b1dc31c",
   "metadata": {},
   "outputs": [],
   "source": [
    "y, sr = librosa.load(file_name)"
   ]
  },
  {
   "cell_type": "code",
   "execution_count": 9,
   "id": "8916508a",
   "metadata": {},
   "outputs": [],
   "source": [
    "#テンポを解析する\n",
    "tempo, beat_frames = librosa.beat.beat_track(y = y, sr = sr)"
   ]
  },
  {
   "cell_type": "code",
   "execution_count": 11,
   "id": "869db6df",
   "metadata": {},
   "outputs": [
    {
     "name": "stdout",
     "output_type": "stream",
     "text": [
      "Estimated tempo: 107.67 beats per minute\n"
     ]
    }
   ],
   "source": [
    "print('Estimated tempo: {:.2f} beats per minute'.format(tempo))"
   ]
  },
  {
   "cell_type": "code",
   "execution_count": 14,
   "id": "7ad23682",
   "metadata": {},
   "outputs": [
    {
     "name": "stdout",
     "output_type": "stream",
     "text": [
      "[  1.18421769   1.71827664   2.32199546   2.87927438   3.45977324\n",
      "   4.01705215   4.59755102   5.13160998   5.7353288    6.29260771\n",
      "   6.84988662   7.40716553   7.9876644    8.54494331   9.12544218\n",
      "   9.65950113  10.21678005  10.72761905  11.28489796  11.79573696\n",
      "  12.32979592  12.86385488  13.42113379  13.95519274  14.4892517\n",
      "  15.02331066  15.55736961  16.09142857  16.62548753  17.15954649\n",
      "  17.69360544  18.25088435  18.80816327  19.31900227  19.87628118\n",
      "  20.38712018  20.92117914  21.4552381   21.98929705  22.52335601\n",
      "  23.05741497  23.59147392  24.12553288  24.65959184  25.19365079\n",
      "  25.72770975  26.26176871  26.81904762  27.35310658  27.88716553\n",
      "  28.44444444  29.00172336  29.55900227  30.11628118  30.67356009\n",
      "  31.20761905  31.78811791  32.34539683  32.85623583  33.36707483\n",
      "  33.90113379  34.43519274  34.94603175  35.45687075  35.99092971\n",
      "  36.52498866  37.03582766  37.56988662  38.12716553  38.66122449\n",
      "  39.2185034   39.75256236  40.30984127  40.84390023  41.40117914\n",
      "  41.9352381   42.46929705  43.02657596  43.56063492  44.11791383\n",
      "  44.67519274  45.2092517   45.76653061  46.30058957  46.85786848\n",
      "  47.41514739  47.94920635  48.48326531  48.99410431  49.50494331\n",
      "  50.03900227  50.54984127  51.08390023  51.61795918  52.10557823\n",
      "  52.61641723  53.17369615  53.7077551   54.24181406  54.77587302\n",
      "  55.28671202  55.82077098  56.35482993  56.91210884  57.4461678\n",
      "  58.00344671  58.56072562  59.09478458  59.62884354  60.18612245\n",
      "  60.72018141  61.27746032  61.81151927  62.32235828  62.83319728\n",
      "  63.36725624  63.90131519  64.43537415  64.94621315  65.45705215\n",
      "  65.99111111  66.50195011  67.03600907  67.57006803  68.10412698\n",
      "  68.63818594  69.1722449   69.72952381  70.28680272  70.84408163\n",
      "  71.40136054  71.98185941  72.56235828  73.14285714  73.70013605\n",
      "  74.28063492  74.83791383  75.37197279  75.90603175  76.50975057\n",
      "  77.04380952  77.62430839  78.1815873   78.73886621  79.29614512\n",
      "  79.85342404  80.38748299  80.92154195  81.47882086  82.05931973\n",
      "  82.66303855  83.26675737  83.87047619  84.45097506  85.07791383\n",
      "  85.6584127   86.26213152  86.84263039  87.44634921  88.02684807\n",
      "  88.63056689  89.21106576  89.76834467  90.34884354  90.9293424\n",
      "  91.48662132  92.06712018  92.64761905  93.20489796  93.76217687\n",
      "  94.34267574  94.89995465  95.48045351  96.03773243  96.59501134\n",
      "  97.15229025  97.70956916  98.26684807  98.82412698  99.3814059\n",
      "  99.93868481 100.47274376 101.05324263 101.58730159 102.16780045\n",
      " 102.70185941 103.25913832 103.81641723 104.37369615 104.93097506\n",
      " 105.48825397 106.04553288 106.60281179 107.1600907  107.71736961\n",
      " 108.25142857 108.80870748 109.36598639 109.92326531 110.48054422\n",
      " 111.03782313 111.59510204 112.15238095 112.70965986 113.24371882\n",
      " 113.80099773 114.3814966  114.93877551 115.47283447 116.03011338\n",
      " 116.58739229 117.1446712 ]\n"
     ]
    }
   ],
   "source": [
    "beat_times = librosa.frames_to_time(beat_frames, sr = sr)\n",
    "print(beat_times)"
   ]
  },
  {
   "cell_type": "code",
   "execution_count": 1,
   "id": "f0cfcda6",
   "metadata": {},
   "outputs": [],
   "source": [
    "import numpy as np\n",
    "import librosa\n",
    "import librosa.display"
   ]
  },
  {
   "cell_type": "code",
   "execution_count": 2,
   "id": "9ed4d3d9",
   "metadata": {},
   "outputs": [],
   "source": [
    "y, sr = librosa.load(librosa.ex('nutcracker'))"
   ]
  },
  {
   "cell_type": "code",
   "execution_count": 3,
   "id": "a1db36ea",
   "metadata": {},
   "outputs": [],
   "source": [
    "hop_length = 512"
   ]
  },
  {
   "cell_type": "code",
   "execution_count": 4,
   "id": "19ecf1bf",
   "metadata": {},
   "outputs": [],
   "source": [
    "y_harmonic, y_percussive = librosa.effects.hpss(y)"
   ]
  },
  {
   "cell_type": "code",
   "execution_count": 5,
   "id": "4b60b252",
   "metadata": {},
   "outputs": [],
   "source": [
    "tempo, beat_frames = librosa.beat.beat_track(y = y_percussive, sr = sr)"
   ]
  },
  {
   "cell_type": "code",
   "execution_count": 6,
   "id": "f41cb60a",
   "metadata": {},
   "outputs": [],
   "source": [
    "mfcc = librosa.feature.mfcc(y = y, sr = sr, hop_length = hop_length, n_mfcc = 13)"
   ]
  },
  {
   "cell_type": "code",
   "execution_count": 7,
   "id": "b5eb22ce",
   "metadata": {},
   "outputs": [],
   "source": [
    "mfcc_delta = librosa.feature.delta(mfcc)"
   ]
  },
  {
   "cell_type": "code",
   "execution_count": 8,
   "id": "732cbb92",
   "metadata": {},
   "outputs": [],
   "source": [
    "beat_mfcc_delta = librosa.util.sync(np.vstack([mfcc, mfcc_delta]), beat_frames)"
   ]
  },
  {
   "cell_type": "code",
   "execution_count": 9,
   "id": "54ab55e9",
   "metadata": {},
   "outputs": [],
   "source": [
    "chromagram = librosa.feature.chroma_cqt(y = y_harmonic, sr = sr)"
   ]
  },
  {
   "cell_type": "code",
   "execution_count": 10,
   "id": "6853a723",
   "metadata": {},
   "outputs": [],
   "source": [
    "beat_chroma = librosa.util.sync(chromagram, beat_frames, aggregate=np.median)"
   ]
  },
  {
   "cell_type": "code",
   "execution_count": 11,
   "id": "7bb0e764",
   "metadata": {},
   "outputs": [],
   "source": [
    "beat_features = np.vstack([beat_chroma, beat_mfcc_delta])"
   ]
  },
  {
   "cell_type": "code",
   "execution_count": 12,
   "id": "cdb626c0",
   "metadata": {},
   "outputs": [
    {
     "data": {
      "text/plain": [
       "<matplotlib.collections.QuadMesh at 0x11d0e432d60>"
      ]
     },
     "execution_count": 12,
     "metadata": {},
     "output_type": "execute_result"
    },
    {
     "data": {
      "image/png": "[encoded data removed]",
      "text/plain": [
       "<Figure size 432x288 with 1 Axes>"
      ]
     },
     "metadata": {},
     "output_type": "display_data"
    }
   ],
   "source": [
    "librosa.display.specshow(chromagram)"
   ]
  }
 ],
 "metadata": {
  "kernelspec": {
   "display_name": "Python 3",
   "language": "python",
   "name": "python3"
  },
  "language_info": {
   "codemirror_mode": {
    "name": "ipython",
    "version": 3
   },
   "file_extension": ".py",
   "mimetype": "text/x-python",
   "name": "python",
   "nbconvert_exporter": "python",
   "pygments_lexer": "ipython3",
   "version": "3.9.2"
  }
 },
 "nbformat": 4,
 "nbformat_minor": 5
}
