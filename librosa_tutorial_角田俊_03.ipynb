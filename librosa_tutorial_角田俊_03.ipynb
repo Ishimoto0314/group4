{
 "cells": [
  {
   "cell_type": "code",
   "execution_count": 1,
   "metadata": {},
   "outputs": [],
   "source": [
    "import librosa"
   ]
  },
  {
   "cell_type": "code",
   "execution_count": 3,
   "metadata": {},
   "outputs": [],
   "source": [
    "filename = './fanfare.wav'"
   ]
  },
  {
   "cell_type": "code",
   "execution_count": 4,
   "metadata": {},
   "outputs": [],
   "source": [
    "y, sr = librosa.load(filename)"
   ]
  },
  {
   "cell_type": "code",
   "execution_count": 5,
   "metadata": {},
   "outputs": [
    {
     "data": {
      "text/plain": [
       "array([-2.3963288e-04, -2.4034626e-04, -7.6501972e-05, ...,\n",
       "        4.8854086e-03,  5.7773585e-03,  3.7897727e-03], dtype=float32)"
      ]
     },
     "execution_count": 5,
     "metadata": {},
     "output_type": "execute_result"
    }
   ],
   "source": [
    "y"
   ]
  },
  {
   "cell_type": "code",
   "execution_count": 6,
   "metadata": {},
   "outputs": [
    {
     "data": {
      "text/plain": [
       "22050"
      ]
     },
     "execution_count": 6,
     "metadata": {},
     "output_type": "execute_result"
    }
   ],
   "source": [
    "sr"
   ]
  },
  {
   "cell_type": "code",
   "execution_count": 7,
   "metadata": {},
   "outputs": [],
   "source": [
    "y,sr = librosa.load(filename,sr=11025)"
   ]
  },
  {
   "cell_type": "code",
   "execution_count": 8,
   "metadata": {},
   "outputs": [
    {
     "data": {
      "text/plain": [
       "array([-0.00016676, -0.00016264, -0.00013833, ..., -0.00191261,\n",
       "        0.00272936,  0.00546586], dtype=float32)"
      ]
     },
     "execution_count": 8,
     "metadata": {},
     "output_type": "execute_result"
    }
   ],
   "source": [
    "y"
   ]
  },
  {
   "cell_type": "code",
   "execution_count": 9,
   "metadata": {},
   "outputs": [
    {
     "data": {
      "text/plain": [
       "11025"
      ]
     },
     "execution_count": 9,
     "metadata": {},
     "output_type": "execute_result"
    }
   ],
   "source": [
    "sr"
   ]
  },
  {
   "cell_type": "code",
   "execution_count": 11,
   "metadata": {},
   "outputs": [],
   "source": [
    "y,sr = librosa.load(filename,offset=5.0,duration=2.0)"
   ]
  },
  {
   "cell_type": "code",
   "execution_count": 12,
   "metadata": {},
   "outputs": [
    {
     "data": {
      "text/plain": [
       "22050"
      ]
     },
     "execution_count": 12,
     "metadata": {},
     "output_type": "execute_result"
    }
   ],
   "source": [
    "sr"
   ]
  },
  {
   "cell_type": "code",
   "execution_count": 13,
   "metadata": {},
   "outputs": [
    {
     "data": {
      "text/plain": [
       "array([-0.05197838, -0.07046588, -0.05145062, ..., -0.07837352,\n",
       "       -0.05247934, -0.05633739], dtype=float32)"
      ]
     },
     "execution_count": 13,
     "metadata": {},
     "output_type": "execute_result"
    }
   ],
   "source": [
    "y"
   ]
  },
  {
   "cell_type": "code",
   "execution_count": 14,
   "metadata": {},
   "outputs": [],
   "source": [
    "sr = librosa.get_samplerate(filename)"
   ]
  },
  {
   "cell_type": "code",
   "execution_count": 16,
   "metadata": {},
   "outputs": [],
   "source": [
    "stream = librosa.stream(filename,\n",
    "                       block_length=256,\n",
    "                       frame_length=4096,\n",
    "                       hop_length=1024)\n",
    "for y_block in stream:\n",
    "    D_block = librosa.stft(y_block,center=False)"
   ]
  },
  {
   "cell_type": "code",
   "execution_count": 17,
   "metadata": {},
   "outputs": [
    {
     "data": {
      "text/plain": [
       "array([[-2.04226583e-01+0.0000000e+00j, -4.29995656e-01+0.0000000e+00j,\n",
       "        -3.29375356e-01+0.0000000e+00j, ...,\n",
       "        -1.27781227e-01+0.0000000e+00j, -1.16548106e-01+0.0000000e+00j,\n",
       "        -9.87578332e-02+0.0000000e+00j],\n",
       "       [-2.95681339e-02-3.3530214e-01j,  2.54145682e-01-1.5516219e-01j,\n",
       "         2.45864123e-01-8.0335557e-02j, ...,\n",
       "         6.06502220e-02-3.5218415e-03j,  6.37123361e-02+1.8451031e-02j,\n",
       "         2.62364596e-02+2.3495074e-04j],\n",
       "       [-2.31624797e-01-2.2646026e-01j, -1.64688051e-01-6.7841977e-01j,\n",
       "         2.52357274e-01-4.9536800e-01j, ...,\n",
       "         2.48588230e-02+3.5496853e-02j, -5.44320000e-03-2.8603250e-02j,\n",
       "        -6.63802586e-03-2.5963588e-02j],\n",
       "       ...,\n",
       "       [ 1.94351276e-04-4.5130320e-04j, -3.23451270e-04-1.0362384e-03j,\n",
       "         9.41367180e-04+1.1130165e-03j, ...,\n",
       "        -4.70780360e-04+1.6110780e-04j,  2.58156389e-04-4.4556717e-05j,\n",
       "         4.88190912e-04+3.3088101e-04j],\n",
       "       [-5.39304980e-04+1.3327266e-03j,  1.42848794e-03+1.0018902e-03j,\n",
       "         1.10326335e-03-3.4400070e-04j, ...,\n",
       "         7.89849728e-04-1.6394872e-04j, -1.06664462e-04-6.8660639e-04j,\n",
       "        -8.23810522e-04-2.2848041e-04j],\n",
       "       [ 8.54358659e-04+0.0000000e+00j, -1.58683362e-03+0.0000000e+00j,\n",
       "        -2.23597069e-03+0.0000000e+00j, ...,\n",
       "        -6.14659977e-04+0.0000000e+00j,  2.12071565e-04+0.0000000e+00j,\n",
       "         1.12604641e-03+0.0000000e+00j]], dtype=complex64)"
      ]
     },
     "execution_count": 17,
     "metadata": {},
     "output_type": "execute_result"
    }
   ],
   "source": [
    "D_block"
   ]
  },
  {
   "cell_type": "code",
   "execution_count": 19,
   "metadata": {},
   "outputs": [],
   "source": [
    "y,sr = librosa.load(filename,mono=False)"
   ]
  },
  {
   "cell_type": "code",
   "execution_count": 20,
   "metadata": {},
   "outputs": [
    {
     "data": {
      "text/plain": [
       "(2, 257536)"
      ]
     },
     "execution_count": 20,
     "metadata": {},
     "output_type": "execute_result"
    }
   ],
   "source": [
    "y.shape"
   ]
  },
  {
   "cell_type": "code",
   "execution_count": 21,
   "metadata": {},
   "outputs": [],
   "source": [
    "y_mono = librosa.to_mono(y)"
   ]
  },
  {
   "cell_type": "code",
   "execution_count": 22,
   "metadata": {},
   "outputs": [
    {
     "data": {
      "text/plain": [
       "(257536,)"
      ]
     },
     "execution_count": 22,
     "metadata": {},
     "output_type": "execute_result"
    }
   ],
   "source": [
    "y_mono.shape"
   ]
  },
  {
   "cell_type": "code",
   "execution_count": 23,
   "metadata": {},
   "outputs": [],
   "source": [
    "y,sr = librosa.load(filename,sr=22050)"
   ]
  },
  {
   "cell_type": "code",
   "execution_count": 24,
   "metadata": {},
   "outputs": [],
   "source": [
    "y_8k = librosa.resample(y,sr,8000)"
   ]
  },
  {
   "cell_type": "code",
   "execution_count": 25,
   "metadata": {},
   "outputs": [
    {
     "data": {
      "text/plain": [
       "((257536,), (93438,))"
      ]
     },
     "execution_count": 25,
     "metadata": {},
     "output_type": "execute_result"
    }
   ],
   "source": [
    "y.shape,y_8k.shape"
   ]
  },
  {
   "cell_type": "code",
   "execution_count": 26,
   "metadata": {},
   "outputs": [
    {
     "data": {
      "text/plain": [
       "11.679637188208616"
      ]
     },
     "execution_count": 26,
     "metadata": {},
     "output_type": "execute_result"
    }
   ],
   "source": [
    "librosa.get_duration(y=y,sr=sr)"
   ]
  },
  {
   "cell_type": "code",
   "execution_count": 27,
   "metadata": {},
   "outputs": [],
   "source": [
    "path = filename"
   ]
  },
  {
   "cell_type": "code",
   "execution_count": 29,
   "metadata": {},
   "outputs": [
    {
     "data": {
      "text/plain": [
       "44100"
      ]
     },
     "execution_count": 29,
     "metadata": {},
     "output_type": "execute_result"
    }
   ],
   "source": [
    "librosa.get_samplerate(path)"
   ]
  },
  {
   "cell_type": "code",
   "execution_count": null,
   "metadata": {},
   "outputs": [],
   "source": []
  }
 ],
 "metadata": {
  "kernelspec": {
   "display_name": "Python 3",
   "language": "python",
   "name": "python3"
  },
  "language_info": {
   "codemirror_mode": {
    "name": "ipython",
    "version": 3
   },
   "file_extension": ".py",
   "mimetype": "text/x-python",
   "name": "python",
   "nbconvert_exporter": "python",
   "pygments_lexer": "ipython3",
   "version": "3.8.5"
  }
 },
 "nbformat": 4,
 "nbformat_minor": 4
}
